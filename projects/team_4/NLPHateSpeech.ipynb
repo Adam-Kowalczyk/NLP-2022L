{
  "nbformat": 4,
  "nbformat_minor": 0,
  "metadata": {
    "colab": {
      "name": "NLPHateSpeech.ipynb",
      "provenance": [],
      "collapsed_sections": [],
      "toc_visible": true
    },
    "kernelspec": {
      "name": "python3",
      "display_name": "Python 3"
    },
    "language_info": {
      "name": "python"
    }
  },
  "cells": [
    {
      "cell_type": "code",
      "source": [
        "import pandas as pd\n",
        "import matplotlib.pyplot as plt\n",
        "import numpy as np\n",
        "\n",
        "from spacy.lang.pl import Polish\n",
        "\n",
        "import string \n",
        "import re\n",
        "\n",
        "import seaborn as sns\n",
        "from collections import  Counter\n",
        "from matplotlib.pyplot import figure"
      ],
      "metadata": {
        "id": "fCyxOJ39ISAM"
      },
      "execution_count": null,
      "outputs": []
    },
    {
      "cell_type": "code",
      "source": [
        "nlp = Polish()"
      ],
      "metadata": {
        "id": "c7dSO1sBZHuN"
      },
      "execution_count": null,
      "outputs": []
    },
    {
      "cell_type": "markdown",
      "source": [
        "### Data Loading"
      ],
      "metadata": {
        "id": "SjUYRaPkHzrx"
      }
    },
    {
      "cell_type": "code",
      "execution_count": null,
      "metadata": {
        "colab": {
          "base_uri": "https://localhost:8080/"
        },
        "id": "U_2EbUNwHZyp",
        "outputId": "b8ed7e82-1432-4845-9901-97942ead0476"
      },
      "outputs": [
        {
          "output_type": "stream",
          "name": "stdout",
          "text": [
            "--2022-04-03 17:26:41--  http://2019.poleval.pl/task6/task_6-2.zip\n",
            "Resolving 2019.poleval.pl (2019.poleval.pl)... 213.135.36.94\n",
            "Connecting to 2019.poleval.pl (2019.poleval.pl)|213.135.36.94|:80... connected.\n",
            "HTTP request sent, awaiting response... 200 OK\n",
            "Length: 340096 (332K) [application/zip]\n",
            "Saving to: ‘task_6-2.zip’\n",
            "\n",
            "task_6-2.zip        100%[===================>] 332.12K   793KB/s    in 0.4s    \n",
            "\n",
            "2022-04-03 17:26:42 (793 KB/s) - ‘task_6-2.zip’ saved [340096/340096]\n",
            "\n"
          ]
        }
      ],
      "source": [
        "!wget \"http://2019.poleval.pl/task6/task_6-2.zip\""
      ]
    },
    {
      "cell_type": "code",
      "source": [
        "!unzip \"/content/task_6-2.zip\" -d \"/content/data\""
      ],
      "metadata": {
        "colab": {
          "base_uri": "https://localhost:8080/"
        },
        "id": "8i7SXLalHyfv",
        "outputId": "52994541-11ba-4d56-c104-a306b7ff8cbe"
      },
      "execution_count": null,
      "outputs": [
        {
          "output_type": "stream",
          "name": "stdout",
          "text": [
            "Archive:  /content/task_6-2.zip\n",
            "  inflating: /content/data/training_set_clean_only_text.txt  \n",
            "  inflating: /content/data/training_set_clean_only_tags.txt  \n"
          ]
        }
      ]
    },
    {
      "cell_type": "code",
      "source": [
        "original_tags = pd.read_csv('/content/data/training_set_clean_only_tags.txt', header = None)\n",
        "with open('/content/data/training_set_clean_only_text.txt', 'r') as textFile:\n",
        "  lines = textFile.readlines()\n",
        "original_text = pd.DataFrame(lines)\n",
        "\n",
        "df = pd.concat([original_text,original_tags], axis=1)\n",
        "df.columns =['Text', 'Tag']"
      ],
      "metadata": {
        "id": "H6IltEzwMOvN"
      },
      "execution_count": null,
      "outputs": []
    },
    {
      "cell_type": "code",
      "source": [
        "df.info()"
      ],
      "metadata": {
        "colab": {
          "base_uri": "https://localhost:8080/"
        },
        "id": "Q93Oco34OBeS",
        "outputId": "5bcb1ed3-7d53-4a05-d4f4-fef1edc522f9"
      },
      "execution_count": null,
      "outputs": [
        {
          "output_type": "stream",
          "name": "stdout",
          "text": [
            "<class 'pandas.core.frame.DataFrame'>\n",
            "RangeIndex: 10041 entries, 0 to 10040\n",
            "Data columns (total 2 columns):\n",
            " #   Column  Non-Null Count  Dtype \n",
            "---  ------  --------------  ----- \n",
            " 0   Text    10041 non-null  object\n",
            " 1   Tag     10041 non-null  int64 \n",
            "dtypes: int64(1), object(1)\n",
            "memory usage: 157.0+ KB\n"
          ]
        }
      ]
    },
    {
      "cell_type": "markdown",
      "source": [
        "# Data Analysis"
      ],
      "metadata": {
        "id": "Ag4YlfliTyNm"
      }
    },
    {
      "cell_type": "markdown",
      "source": [
        "## Classes distribution"
      ],
      "metadata": {
        "id": "5BlrzNYgVwIZ"
      }
    },
    {
      "cell_type": "code",
      "source": [
        "df.Tag.value_counts()"
      ],
      "metadata": {
        "colab": {
          "base_uri": "https://localhost:8080/"
        },
        "id": "rNr4MJcXPOJi",
        "outputId": "25be237c-21ec-4dcb-e529-00a155626806"
      },
      "execution_count": null,
      "outputs": [
        {
          "output_type": "execute_result",
          "data": {
            "text/plain": [
              "0    9190\n",
              "2     598\n",
              "1     253\n",
              "Name: Tag, dtype: int64"
            ]
          },
          "metadata": {},
          "execution_count": 7
        }
      ]
    },
    {
      "cell_type": "markdown",
      "source": [
        "## Words Count"
      ],
      "metadata": {
        "id": "yPEdmpcGVzRU"
      }
    },
    {
      "cell_type": "code",
      "source": [
        "figure(figsize=(8, 6), dpi=80)\n",
        "plt.subplot(2,2,1)\n",
        "df['Text'].apply(lambda x: len(x.split())).plot.hist(by=['Tag'], title = \"All\")\n",
        "plt.subplot(2,2,2)\n",
        "df[df.Tag == 0]['Text'].apply(lambda x: len(x.split())).plot.hist(by=['Tag'], title = \"0\")\n",
        "plt.subplot(2,2,3)\n",
        "df[df.Tag == 1]['Text'].apply(lambda x: len(x.split())).plot.hist(by=['Tag'], title = \"1\")\n",
        "plt.subplot(2,2,4)\n",
        "df[df.Tag == 2]['Text'].apply(lambda x: len(x.split())).plot.hist(by=['Tag'], title = \"2\")"
      ],
      "metadata": {
        "colab": {
          "base_uri": "https://localhost:8080/",
          "height": 446
        },
        "id": "lsXRfADUS_yb",
        "outputId": "7ac55bce-947b-4f4f-a145-04663ca7c6aa"
      },
      "execution_count": null,
      "outputs": [
        {
          "output_type": "execute_result",
          "data": {
            "text/plain": [
              "<matplotlib.axes._subplots.AxesSubplot at 0x7f1be8220450>"
            ]
          },
          "metadata": {},
          "execution_count": 27
        },
        {
          "output_type": "display_data",
          "data": {
            "text/plain": [
              "<Figure size 640x480 with 4 Axes>"
            ],
            "image/png": "[encoded data removed]"
          },
          "metadata": {
            "needs_background": "light"
          }
        }
      ]
    },
    {
      "cell_type": "markdown",
      "source": [
        "## Length of text"
      ],
      "metadata": {
        "id": "dsPBxQesV4PE"
      }
    },
    {
      "cell_type": "code",
      "source": [
        "figure(figsize=(8, 6), dpi=80)\n",
        "plt.subplot(2,2,1)\n",
        "df['Text'].str.len().plot.hist(title = \"all\")\n",
        "plt.subplot(2,2,2)\n",
        "df[df.Tag == 0]['Text'].str.len().plot.hist(title = \"0\")\n",
        "plt.subplot(2,2,3)\n",
        "df[df.Tag == 1]['Text'].str.len().plot.hist(title = \"1\")\n",
        "plt.subplot(2,2,4)\n",
        "df[df.Tag == 2]['Text'].str.len().plot.hist(title = \"2\")"
      ],
      "metadata": {
        "colab": {
          "base_uri": "https://localhost:8080/",
          "height": 446
        },
        "id": "3bYbYMOBVSF1",
        "outputId": "525cc931-3fbb-419d-e390-fb3655a14b0d"
      },
      "execution_count": null,
      "outputs": [
        {
          "output_type": "execute_result",
          "data": {
            "text/plain": [
              "<matplotlib.axes._subplots.AxesSubplot at 0x7f1be7d1c550>"
            ]
          },
          "metadata": {},
          "execution_count": 32
        },
        {
          "output_type": "display_data",
          "data": {
            "text/plain": [
              "<Figure size 640x480 with 4 Axes>"
            ],
            "image/png": "[encoded data removed]"
          },
          "metadata": {
            "needs_background": "light"
          }
        }
      ]
    },
    {
      "cell_type": "markdown",
      "source": [
        "## Average word length"
      ],
      "metadata": {
        "id": "dHlEJHIHV8ha"
      }
    },
    {
      "cell_type": "code",
      "source": [
        "figure(figsize=(8, 6), dpi=80)\n",
        "plt.subplot(2,2,1)\n",
        "df['Text'].str.split().apply(lambda x : [len(i) for i in x]).map(lambda x: np.mean(x)).plot.hist(title = \"all\")\n",
        "plt.subplot(2,2,2)\n",
        "df[df.Tag == 0]['Text'].str.split().apply(lambda x : [len(i) for i in x]).map(lambda x: np.mean(x)).plot.hist(title = \"0\")\n",
        "plt.subplot(2,2,3)\n",
        "df[df.Tag == 1]['Text'].str.split().apply(lambda x : [len(i) for i in x]).map(lambda x: np.mean(x)).plot.hist(title = \"1\")\n",
        "plt.subplot(2,2,4)\n",
        "df[df.Tag == 2]['Text'].str.split().apply(lambda x : [len(i) for i in x]).map(lambda x: np.mean(x)).plot.hist(title = \"2\")"
      ],
      "metadata": {
        "colab": {
          "base_uri": "https://localhost:8080/",
          "height": 446
        },
        "id": "OTXAvwxdgdOE",
        "outputId": "b564aa63-c94a-4ae3-c27d-276afb40b334"
      },
      "execution_count": null,
      "outputs": [
        {
          "output_type": "execute_result",
          "data": {
            "text/plain": [
              "<matplotlib.axes._subplots.AxesSubplot at 0x7f1be83e4490>"
            ]
          },
          "metadata": {},
          "execution_count": 31
        },
        {
          "output_type": "display_data",
          "data": {
            "text/plain": [
              "<Figure size 640x480 with 4 Axes>"
            ],
            "image/png": "[encoded data removed]"
          },
          "metadata": {
            "needs_background": "light"
          }
        }
      ]
    },
    {
      "cell_type": "markdown",
      "source": [
        "## Stop words"
      ],
      "metadata": {
        "id": "1P4b4aX3ZKVI"
      }
    },
    {
      "cell_type": "code",
      "source": [
        "stopwords_count = []\n",
        "\n",
        "for index, row in df.iterrows():\n",
        "  for tok in nlp(row['Text']):\n",
        "    if tok.is_stop:\n",
        "      stopwords_count.append(tok.lower_)"
      ],
      "metadata": {
        "id": "OWVNrbpJZNAr"
      },
      "execution_count": null,
      "outputs": []
    },
    {
      "cell_type": "code",
      "source": [
        "counter=Counter(stopwords_count)\n",
        "most=counter.most_common()\n",
        "\n",
        "x, y=[], []\n",
        "for word,count in most[:40]:\n",
        "  x.append(word)\n",
        "  y.append(count)\n",
        "\n",
        "plt.figure(figsize=(15,8))         \n",
        "sns.barplot(x=y,y=x)"
      ],
      "metadata": {
        "colab": {
          "base_uri": "https://localhost:8080/",
          "height": 500
        },
        "id": "17Re8TilaPC3",
        "outputId": "eab7f4b8-fdc4-4fa1-9ba5-3bf3e9f12c41"
      },
      "execution_count": null,
      "outputs": [
        {
          "output_type": "execute_result",
          "data": {
            "text/plain": [
              "<matplotlib.axes._subplots.AxesSubplot at 0x7f91717968d0>"
            ]
          },
          "metadata": {},
          "execution_count": 69
        },
        {
          "output_type": "display_data",
          "data": {
            "text/plain": [
              "<Figure size 1080x576 with 1 Axes>"
            ],
            "image/png": "[encoded data removed]"
          },
          "metadata": {
            "needs_background": "light"
          }
        }
      ]
    },
    {
      "cell_type": "markdown",
      "source": [
        "## Non stop words"
      ],
      "metadata": {
        "id": "jBmHOneNbTp3"
      }
    },
    {
      "cell_type": "code",
      "source": [
        "nonstopwords_count = []\n",
        "\n",
        "for index, row in df.iterrows():\n",
        "  text = ' '.join(row['Text'].split())\n",
        "  for tok in nlp(text):\n",
        "    if not tok.is_stop and tok.text != \"@anonymized_account\" and tok.text != \"RT\" and tok.text not in string.punctuation:\n",
        "      nonstopwords_count.append(tok.lower_)\n",
        "        "
      ],
      "metadata": {
        "id": "RO7o1yV7box6"
      },
      "execution_count": null,
      "outputs": []
    },
    {
      "cell_type": "code",
      "source": [
        "counter=Counter(nonstopwords_count)\n",
        "most=counter.most_common()\n",
        "\n",
        "x, y=[], []\n",
        "for word,count in most[:40]:\n",
        "  x.append(word)\n",
        "  y.append(count)\n",
        "\n",
        "plt.figure(figsize=(15,8))       \n",
        "sns.barplot(x=y,y=x)"
      ],
      "metadata": {
        "colab": {
          "base_uri": "https://localhost:8080/",
          "height": 500
        },
        "id": "jITYKpG0b0fb",
        "outputId": "2c92ca88-e423-4bfd-a423-6544819091ca"
      },
      "execution_count": null,
      "outputs": [
        {
          "output_type": "execute_result",
          "data": {
            "text/plain": [
              "<matplotlib.axes._subplots.AxesSubplot at 0x7f9171cbab10>"
            ]
          },
          "metadata": {},
          "execution_count": 71
        },
        {
          "output_type": "display_data",
          "data": {
            "text/plain": [
              "<Figure size 1080x576 with 1 Axes>"
            ],
            "image/png": "[encoded data removed]"
          },
          "metadata": {
            "needs_background": "light"
          }
        }
      ]
    },
    {
      "cell_type": "markdown",
      "source": [
        "### For 1 and 2"
      ],
      "metadata": {
        "id": "o66gnzF0g4c0"
      }
    },
    {
      "cell_type": "code",
      "source": [
        "nonstopwords_count = []\n",
        "\n",
        "for index, row in df[df.Tag != 0].iterrows():\n",
        "  text = ' '.join(row['Text'].split())\n",
        "  for tok in nlp(text):\n",
        "    if not tok.is_stop and tok.text != \"@anonymized_account\" and tok.text != \"RT\" and tok.text not in string.punctuation:\n",
        "      nonstopwords_count.append(tok.lower_)"
      ],
      "metadata": {
        "id": "dq2PF1pmg6MV"
      },
      "execution_count": null,
      "outputs": []
    },
    {
      "cell_type": "code",
      "source": [
        "counter=Counter(nonstopwords_count)\n",
        "most=counter.most_common()\n",
        "\n",
        "x, y=[], []\n",
        "for word,count in most[:40]:\n",
        "  x.append(word)\n",
        "  y.append(count)\n",
        "\n",
        "plt.figure(figsize=(15,8))       \n",
        "sns.barplot(x=y,y=x)"
      ],
      "metadata": {
        "colab": {
          "base_uri": "https://localhost:8080/",
          "height": 552
        },
        "id": "h1rVQd9sg8c6",
        "outputId": "5303d556-8a43-422a-e474-4dbbcd8b9f1e"
      },
      "execution_count": null,
      "outputs": [
        {
          "output_type": "execute_result",
          "data": {
            "text/plain": [
              "<matplotlib.axes._subplots.AxesSubplot at 0x7f1be8173090>"
            ]
          },
          "metadata": {},
          "execution_count": 34
        },
        {
          "output_type": "stream",
          "name": "stderr",
          "text": [
            "/usr/local/lib/python3.7/dist-packages/matplotlib/backends/backend_agg.py:214: RuntimeWarning: Glyph 129315 missing from current font.\n",
            "  font.set_text(s, 0.0, flags=flags)\n",
            "/usr/local/lib/python3.7/dist-packages/matplotlib/backends/backend_agg.py:183: RuntimeWarning: Glyph 129315 missing from current font.\n",
            "  font.set_text(s, 0, flags=flags)\n"
          ]
        },
        {
          "output_type": "display_data",
          "data": {
            "text/plain": [
              "<Figure size 1080x576 with 1 Axes>"
            ],
            "image/png": "[encoded data removed]"
          },
          "metadata": {
            "needs_background": "light"
          }
        }
      ]
    },
    {
      "cell_type": "markdown",
      "source": [
        "# Data Preprocessing"
      ],
      "metadata": {
        "id": "HHLI0hk9Ttk6"
      }
    },
    {
      "cell_type": "code",
      "source": [
        "RE_EMOJI = re.compile('[\\U00010000-\\U0010ffff]', flags=re.UNICODE)\n",
        "\n",
        "def preprocess_text(text):\n",
        "  # remove whitespaces\n",
        "  text = ' '.join(text.split())\n",
        "\n",
        "  # tokenize\n",
        "  doc = [tok for tok in nlp(text)]\n",
        "\n",
        "  # remove RT @...\n",
        "  if str(doc[0]) == \"RT\": \n",
        "    doc.pop(0)\n",
        "\n",
        "  while str(doc[0]) == \"@anonymized_account\":\n",
        "    doc.pop(0)\n",
        "  while str(doc[-1]) == \"@anonymized_account\":\n",
        "    doc.pop()\n",
        "\n",
        "  # remove punctuation\n",
        "  doc = [t for t in doc if t.text not in string.punctuation]\n",
        "  \n",
        "  # doc = [tok for tok in doc if not tok.is_stop]\n",
        "\n",
        "  doc = [tok.lower_ for tok in doc]\n",
        "  doc = [RE_EMOJI.sub(r'', str_text) for str_text in doc]\n",
        "\n",
        "  return doc"
      ],
      "metadata": {
        "id": "0c8f-ALExzEP"
      },
      "execution_count": null,
      "outputs": []
    },
    {
      "cell_type": "code",
      "source": [
        "preprocess_text(\"RT @anonymized_account @anonymized_account Siemka, to ja :) @anonymized_account\")"
      ],
      "metadata": {
        "colab": {
          "base_uri": "https://localhost:8080/"
        },
        "id": "WGABF44Azo6y",
        "outputId": "a7b5a3d5-db74-4159-c2f4-05cd15100da5"
      },
      "execution_count": null,
      "outputs": [
        {
          "output_type": "execute_result",
          "data": {
            "text/plain": [
              "['siemka', 'to', 'ja', ':)']"
            ]
          },
          "metadata": {},
          "execution_count": 42
        }
      ]
    },
    {
      "cell_type": "code",
      "source": [
        "df['Tokens'] = df['Text'].map(lambda x: preprocess_text(x))"
      ],
      "metadata": {
        "id": "DWp8L8Cw0J66"
      },
      "execution_count": null,
      "outputs": []
    }
  ]
}