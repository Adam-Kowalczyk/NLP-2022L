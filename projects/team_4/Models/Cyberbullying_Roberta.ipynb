{
 "cells": [
  {
   "cell_type": "code",
   "execution_count": null,
   "metadata": {
    "collapsed": true,
    "id": "dJYyJUXvHwGi"
   },
   "outputs": [],
   "source": [
    "!pip install tqdm\n",
    "!pip install spacy\n",
    "!pip install fairseq\n",
    "!pip install sklearn\n",
    "!pip install tensorflow\n",
    "!pip install sentencepiece"
   ]
  },
  {
   "cell_type": "code",
   "execution_count": null,
   "metadata": {
    "collapsed": true,
    "id": "ydJ3ow1zHfQh"
   },
   "outputs": [],
   "source": [
    "!wget \"http://2019.poleval.pl/task6/task_6-2.zip\"\n",
    "!unzip \"./task_6-2.zip\" -d \"./data\"\n",
    "!rm \"./task_6-2.zip\""
   ]
  },
  {
   "cell_type": "code",
   "execution_count": null,
   "metadata": {
    "collapsed": true,
    "id": "c0vuRSLddW4u"
   },
   "outputs": [],
   "source": [
    "!wget \"http://2019.poleval.pl/task6/task6_test.zip\"\n",
    "!unzip \"./task6_test.zip\" -d \"./data\"\n",
    "!mv \"./data/Task6/task 02/test_set_only_tags.txt\" \"./data/\"\n",
    "!mv \"./data/Task6/task 02/test_set_only_text.txt\" \"./data/\"\n",
    "!rm -r \"./task6_test.zip\"\n",
    "!rm -r \"./data/Task6\""
   ]
  },
  {
   "cell_type": "code",
   "execution_count": null,
   "metadata": {
    "collapsed": true,
    "id": "mtP2yZEaIVrm"
   },
   "outputs": [],
   "source": [
    "!wget \"https://github.com/sdadas/polish-roberta/releases/download/models-v2/roberta_base_fairseq.zip\"\n",
    "!unzip \"./roberta_base_fairseq.zip\" -d \"./roberta\"\n",
    "!rm \"./roberta_base_fairseq.zip\""
   ]
  },
  {
   "cell_type": "code",
   "execution_count": 55,
   "metadata": {
    "id": "a8fjPFhoHZxZ"
   },
   "outputs": [],
   "source": [
    "import re\n",
    "import numpy as np\n",
    "import pandas as pd\n",
    "from tqdm import tqdm\n",
    "\n",
    "from spacy.lang.pl import Polish\n",
    "from fairseq.models.roberta import RobertaModel, RobertaHubInterface\n",
    "from fairseq import hub_utils\n",
    "\n",
    "from sklearn.metrics import f1_score\n",
    "\n",
    "import matplotlib.pyplot as plt\n",
    "from matplotlib.patches import Patch\n",
    "%matplotlib inline\n",
    "\n",
    "nlp = Polish()\n",
    "\n",
    "RE_EMOJI = re.compile(\"[\\U00010000-\\U0010ffff]\", flags=re.UNICODE)"
   ]
  },
  {
   "cell_type": "code",
   "execution_count": null,
   "metadata": {
    "colab": {
     "base_uri": "https://localhost:8080/"
    },
    "collapsed": true,
    "id": "teT13GU0HZxh",
    "outputId": "5d15c574-30c4-4164-97ca-31d8193d445a"
   },
   "outputs": [],
   "source": [
    "model_path = \"roberta\"\n",
    "loaded = hub_utils.from_pretrained(\n",
    "    model_name_or_path=model_path,\n",
    "    data_name_or_path=model_path,\n",
    "    bpe=\"sentencepiece\",\n",
    "    sentencepiece_vocab=\"sentencepiece.bpe.model\",\n",
    "    load_checkpoint_heads=True,\n",
    "    archive_map=RobertaModel.hub_models(),\n",
    "    cpu=True\n",
    ")\n",
    "roberta = RobertaHubInterface(loaded['args'], loaded['task'], loaded['models'][0])\n",
    "roberta.eval()"
   ]
  },
  {
   "cell_type": "code",
   "execution_count": 33,
   "metadata": {
    "id": "yYku9jM4HZxf"
   },
   "outputs": [],
   "source": [
    "with open(\"./data/training_set_clean_only_text.txt\", \"r\") as textFile:\n",
    "    train_x = textFile.readlines()\n",
    "with open(\"./data/training_set_clean_only_tags.txt\", \"r\") as textFile:\n",
    "    train_y = list(map(int,textFile.readlines()))"
   ]
  },
  {
   "cell_type": "code",
   "execution_count": 34,
   "metadata": {
    "id": "FGdiTP3XgWNc"
   },
   "outputs": [],
   "source": [
    "with open(\"./data/test_set_only_text.txt\", \"r\") as textFile:\n",
    "    test_x = textFile.readlines()\n",
    "with open(\"./data/test_set_only_tags.txt\", \"r\") as textFile:\n",
    "    test_y = list(map(int,textFile.readlines()))"
   ]
  },
  {
   "cell_type": "code",
   "execution_count": 35,
   "metadata": {
    "id": "N04mexa0HZxg"
   },
   "outputs": [],
   "source": [
    "def preprocess_text(text):\n",
    "    text = text.strip()\n",
    "\n",
    "    if text.startswith(\"RT\"):\n",
    "        text = text[len(\"RT\"):].lstrip()\n",
    "\n",
    "    while text.startswith(\"@anonymized_account\"):\n",
    "        text = text[len(\"@anonymized_account\"):].lstrip()\n",
    "    while text.endswith(\"@anonymized_account\"):\n",
    "        text = text[:len(\"@anonymized_account\")].rstrip()\n",
    "\n",
    "    text = RE_EMOJI.sub(r\"\", text)\n",
    "    \n",
    "    return text"
   ]
  },
  {
   "cell_type": "code",
   "execution_count": 36,
   "metadata": {
    "id": "weRxHaD9HZxh"
   },
   "outputs": [],
   "source": [
    "train_x = [preprocess_text(xi) for xi in train_x]\n",
    "train_x = [roberta.encode(xi) for xi in train_x]"
   ]
  },
  {
   "cell_type": "code",
   "execution_count": 37,
   "metadata": {
    "id": "0UyG8Imegv6C"
   },
   "outputs": [],
   "source": [
    "test_x = [preprocess_text(xi) for xi in test_x]\n",
    "test_x = [\"\".join(xi) for xi in test_x]\n",
    "test_x = [roberta.encode(xi) for xi in test_x]"
   ]
  },
  {
   "cell_type": "code",
   "execution_count": 38,
   "metadata": {
    "colab": {
     "base_uri": "https://localhost:8080/"
    },
    "id": "egWKvd7tHZxi",
    "outputId": "ac46dcf4-134a-4ee0-d668-984c91f97944",
    "scrolled": true
   },
   "outputs": [],
   "source": [
    "def extract_features(x):\n",
    "    x_mean = []\n",
    "    x_cls = []\n",
    "    for xi in tqdm(x):\n",
    "        features = roberta.extract_features(xi, return_all_hiddens=True)[-2].cpu().detach().numpy().squeeze()\n",
    "        x_mean.append(features.mean(axis=0))\n",
    "        x_cls.append(features[0])\n",
    "    return x_mean,x_cls"
   ]
  },
  {
   "cell_type": "code",
   "execution_count": 39,
   "metadata": {
    "scrolled": true
   },
   "outputs": [
    {
     "name": "stderr",
     "output_type": "stream",
     "text": [
      "100%|██████████| 10041/10041 [11:34<00:00, 14.45it/s]\n"
     ]
    }
   ],
   "source": [
    "train_x_mean,train_x_cls = extract_features(train_x)"
   ]
  },
  {
   "cell_type": "code",
   "execution_count": 40,
   "metadata": {
    "id": "RlR1M933g_dX"
   },
   "outputs": [
    {
     "name": "stderr",
     "output_type": "stream",
     "text": [
      "100%|██████████| 1000/1000 [01:12<00:00, 13.85it/s]\n"
     ]
    }
   ],
   "source": [
    "test_x_mean,test_x_cls = extract_features(test_x)"
   ]
  },
  {
   "cell_type": "code",
   "execution_count": 41,
   "metadata": {},
   "outputs": [],
   "source": [
    "train_x = train_x_mean\n",
    "test_x = test_x_mean"
   ]
  },
  {
   "cell_type": "code",
   "execution_count": 42,
   "metadata": {},
   "outputs": [],
   "source": [
    "def predict_stats(clf, test_x, test_y):\n",
    "    predictions = clf.predict(test_x)\n",
    "    stats(test_y, predictions)"
   ]
  },
  {
   "cell_type": "code",
   "execution_count": 43,
   "metadata": {},
   "outputs": [],
   "source": [
    "def stats(test_y, predictions):\n",
    "    micro_fscore = f1_score(test_y, predictions, average='micro')\n",
    "    macro_fscore = f1_score(test_y, predictions, average='macro')\n",
    "    print(micro_fscore)\n",
    "    print(macro_fscore)"
   ]
  },
  {
   "cell_type": "code",
   "execution_count": 44,
   "metadata": {
    "id": "NAFbL9_LHZxk"
   },
   "outputs": [
    {
     "name": "stdout",
     "output_type": "stream",
     "text": [
      "0.8599999999999999\n",
      "0.5243452251093684\n"
     ]
    }
   ],
   "source": [
    "from sklearn import svm\n",
    "clf = svm.LinearSVC(class_weight=\"balanced\", dual=False)\n",
    "clf.fit(train_x, train_y)\n",
    "predict_stats(clf, test_x, test_y)"
   ]
  },
  {
   "cell_type": "code",
   "execution_count": 45,
   "metadata": {},
   "outputs": [
    {
     "name": "stdout",
     "output_type": "stream",
     "text": [
      "0.813\n",
      "0.5314599481683454\n"
     ]
    }
   ],
   "source": [
    "from sklearn import svm\n",
    "clf = svm.SVC(class_weight=\"balanced\")\n",
    "clf.fit(train_x, train_y)\n",
    "predict_stats(clf, test_x, test_y)"
   ]
  },
  {
   "cell_type": "code",
   "execution_count": 46,
   "metadata": {},
   "outputs": [
    {
     "name": "stdout",
     "output_type": "stream",
     "text": [
      "0.867\n",
      "0.31562271508652207\n"
     ]
    }
   ],
   "source": [
    "from sklearn.ensemble import RandomForestClassifier\n",
    "clf = RandomForestClassifier(class_weight=\"balanced\")\n",
    "clf.fit(train_x, train_y)\n",
    "predict_stats(clf, test_x, test_y)"
   ]
  },
  {
   "cell_type": "code",
   "execution_count": 47,
   "metadata": {},
   "outputs": [
    {
     "name": "stdout",
     "output_type": "stream",
     "text": [
      "0.887\n",
      "0.5025833923191237\n"
     ]
    }
   ],
   "source": [
    "from sklearn.neural_network import MLPClassifier\n",
    "clf = MLPClassifier()\n",
    "clf.fit(train_x, train_y)\n",
    "predict_stats(clf, test_x, test_y)"
   ]
  },
  {
   "cell_type": "code",
   "execution_count": 73,
   "metadata": {},
   "outputs": [],
   "source": [
    "from tensorflow.keras import Sequential\n",
    "from tensorflow.keras.layers import Dense, Dropout\n",
    "model = Sequential()\n",
    "model.add(Dense(512, input_shape=(768,), activation=\"relu\", kernel_initializer=\"he_normal\"))\n",
    "model.add(Dropout(0.25))\n",
    "model.add(Dense(64, activation=\"relu\", kernel_initializer=\"he_normal\"))\n",
    "model.add(Dropout(0.35))\n",
    "model.add(Dense(3, activation=\"softmax\", kernel_initializer=\"he_normal\"))\n",
    "model.compile(optimizer=\"adam\", loss=\"categorical_crossentropy\", metrics=[\"accuracy\"])"
   ]
  },
  {
   "cell_type": "code",
   "execution_count": 74,
   "metadata": {},
   "outputs": [],
   "source": [
    "from tensorflow.keras.utils import to_categorical\n",
    "train_y_ohe = to_categorical(train_y)\n",
    "test_y_ohe = to_categorical(test_y)\n",
    "train_x_np = np.array(train_x)\n",
    "test_x_np = np.array(test_x)"
   ]
  },
  {
   "cell_type": "code",
   "execution_count": 75,
   "metadata": {},
   "outputs": [],
   "source": [
    "epochs = 3\n",
    "count = len(train_y)\n",
    "class_weights = np.sum(train_y_ohe, axis=0)\n",
    "class_weights = { i : (count - w) / count for i,w in enumerate(class_weights)}"
   ]
  },
  {
   "cell_type": "code",
   "execution_count": 76,
   "metadata": {},
   "outputs": [
    {
     "name": "stdout",
     "output_type": "stream",
     "text": [
      "Epoch 1/5\n",
      "314/314 - 2s - loss: 0.1380 - accuracy: 0.7846 - val_loss: 0.4585 - val_accuracy: 0.8300 - 2s/epoch - 7ms/step\n",
      "Epoch 2/5\n",
      "314/314 - 1s - loss: 0.1166 - accuracy: 0.8022 - val_loss: 0.6445 - val_accuracy: 0.6900 - 1s/epoch - 5ms/step\n",
      "Epoch 3/5\n",
      "314/314 - 1s - loss: 0.1113 - accuracy: 0.8092 - val_loss: 0.4558 - val_accuracy: 0.8210 - 1s/epoch - 4ms/step\n",
      "Epoch 4/5\n",
      "314/314 - 1s - loss: 0.1042 - accuracy: 0.8161 - val_loss: 0.4421 - val_accuracy: 0.8010 - 1s/epoch - 4ms/step\n",
      "Epoch 5/5\n",
      "314/314 - 1s - loss: 0.0987 - accuracy: 0.8178 - val_loss: 0.4390 - val_accuracy: 0.7970 - 1s/epoch - 4ms/step\n"
     ]
    }
   ],
   "source": [
    "feature = model.fit(\n",
    "    train_x_np,\n",
    "    train_y_ohe,\n",
    "    epochs=epochs,\n",
    "    batch_size=32,\n",
    "    class_weight=class_weights,\n",
    "    verbose=2,\n",
    "    validation_data=(test_x_np, test_y_ohe)\n",
    ")"
   ]
  },
  {
   "cell_type": "code",
   "execution_count": 77,
   "metadata": {
    "scrolled": true
   },
   "outputs": [
    {
     "data": {
      "text/html": [
       "<div>\n",
       "<style scoped>\n",
       "    .dataframe tbody tr th:only-of-type {\n",
       "        vertical-align: middle;\n",
       "    }\n",
       "\n",
       "    .dataframe tbody tr th {\n",
       "        vertical-align: top;\n",
       "    }\n",
       "\n",
       "    .dataframe thead th {\n",
       "        text-align: right;\n",
       "    }\n",
       "</style>\n",
       "<table border=\"1\" class=\"dataframe\">\n",
       "  <thead>\n",
       "    <tr style=\"text-align: right;\">\n",
       "      <th></th>\n",
       "      <th>training_accuracy</th>\n",
       "      <th>training_loss</th>\n",
       "      <th>test_accuracy</th>\n",
       "      <th>test_loss</th>\n",
       "      <th>epoch</th>\n",
       "    </tr>\n",
       "  </thead>\n",
       "  <tbody>\n",
       "    <tr>\n",
       "      <th>0</th>\n",
       "      <td>0.784583</td>\n",
       "      <td>0.137961</td>\n",
       "      <td>0.830</td>\n",
       "      <td>0.458490</td>\n",
       "      <td>1</td>\n",
       "    </tr>\n",
       "    <tr>\n",
       "      <th>1</th>\n",
       "      <td>0.802211</td>\n",
       "      <td>0.116563</td>\n",
       "      <td>0.690</td>\n",
       "      <td>0.644524</td>\n",
       "      <td>2</td>\n",
       "    </tr>\n",
       "    <tr>\n",
       "      <th>2</th>\n",
       "      <td>0.809182</td>\n",
       "      <td>0.111345</td>\n",
       "      <td>0.821</td>\n",
       "      <td>0.455811</td>\n",
       "      <td>3</td>\n",
       "    </tr>\n",
       "    <tr>\n",
       "      <th>3</th>\n",
       "      <td>0.816054</td>\n",
       "      <td>0.104206</td>\n",
       "      <td>0.801</td>\n",
       "      <td>0.442088</td>\n",
       "      <td>4</td>\n",
       "    </tr>\n",
       "    <tr>\n",
       "      <th>4</th>\n",
       "      <td>0.817847</td>\n",
       "      <td>0.098703</td>\n",
       "      <td>0.797</td>\n",
       "      <td>0.439027</td>\n",
       "      <td>5</td>\n",
       "    </tr>\n",
       "  </tbody>\n",
       "</table>\n",
       "</div>"
      ],
      "text/plain": [
       "   training_accuracy  training_loss  test_accuracy  test_loss  epoch\n",
       "0           0.784583       0.137961          0.830   0.458490      1\n",
       "1           0.802211       0.116563          0.690   0.644524      2\n",
       "2           0.809182       0.111345          0.821   0.455811      3\n",
       "3           0.816054       0.104206          0.801   0.442088      4\n",
       "4           0.817847       0.098703          0.797   0.439027      5"
      ]
     },
     "execution_count": 77,
     "metadata": {},
     "output_type": "execute_result"
    }
   ],
   "source": [
    "results = pd.DataFrame({\n",
    "    \"training_accuracy\": feature.history[\"accuracy\"],\n",
    "    \"training_loss\": feature.history[\"loss\"],\n",
    "    \"test_accuracy\": feature.history[\"val_accuracy\"],\n",
    "    \"test_loss\": feature.history[\"val_loss\"],\n",
    "    \"epoch\": list(range(1, epochs + 1))\n",
    "})\n",
    "results"
   ]
  },
  {
   "cell_type": "code",
   "execution_count": 78,
   "metadata": {},
   "outputs": [
    {
     "data": {
      "image/png": "[encoded data removed]",
      "text/plain": [
       "<Figure size 432x288 with 2 Axes>"
      ]
     },
     "metadata": {
      "needs_background": "light"
     },
     "output_type": "display_data"
    }
   ],
   "source": [
    "patches = [\n",
    "    Patch(color='dodgerblue',label='Train accuracy'),\n",
    "    Patch(color='mediumspringgreen',label='Test accuracy'),\n",
    "    Patch(color='orange',label='Train loss'),\n",
    "    Patch(color='firebrick',label='Test loss')\n",
    "]\n",
    "\n",
    "fig, ax1 = plt.subplots()\n",
    "\n",
    "ax1.plot(results[\"epoch\"],results[\"training_accuracy\"],'dodgerblue')\n",
    "ax1.plot(results[\"epoch\"],results[\"test_accuracy\"],'mediumspringgreen')\n",
    "ax1.set_ylabel(\"Accuracy\")\n",
    "\n",
    "ax2 = ax1.twinx()\n",
    "ax2.plot(results[\"epoch\"],results[\"training_loss\"],'orange')\n",
    "ax2.plot(results[\"epoch\"],results[\"test_loss\"],'firebrick')\n",
    "ax2.set_ylabel(\"Loss\")\n",
    "\n",
    "plt.legend(handles=patches)\n",
    "plt.show()"
   ]
  },
  {
   "cell_type": "code",
   "execution_count": 79,
   "metadata": {
    "scrolled": true
   },
   "outputs": [
    {
     "name": "stdout",
     "output_type": "stream",
     "text": [
      "0.797\n",
      "0.5170467343534676\n"
     ]
    }
   ],
   "source": [
    "predictions = np.argmax(model.predict(test_x_np), axis=1)\n",
    "y_true = np.argmax(test_y_ohe, axis=1)\n",
    "stats(y_true, predictions)"
   ]
  }
 ],
 "metadata": {
  "colab": {
   "collapsed_sections": [],
   "name": "Cyberbullying Roberta",
   "provenance": []
  },
  "interpreter": {
   "hash": "31f2aee4e71d21fbe5cf8b01ff0e069b9275f58929596ceb00d14d90e3e16cd6"
  },
  "kernelspec": {
   "display_name": "Python 3.8.10 64-bit",
   "language": "python",
   "name": "python3"
  },
  "language_info": {
   "codemirror_mode": {
    "name": "ipython",
    "version": 3
   },
   "file_extension": ".py",
   "mimetype": "text/x-python",
   "name": "python",
   "nbconvert_exporter": "python",
   "pygments_lexer": "ipython3",
   "version": "3.8.10"
  }
 },
 "nbformat": 4,
 "nbformat_minor": 1
}
