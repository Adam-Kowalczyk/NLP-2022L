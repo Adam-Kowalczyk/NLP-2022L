{
 "cells": [
  {
   "cell_type": "code",
   "execution_count": null,
   "metadata": {
    "collapsed": true,
    "id": "dJYyJUXvHwGi"
   },
   "outputs": [],
   "source": [
    "!pip install tqdm\n",
    "!pip install spacy\n",
    "!pip install fairseq\n",
    "!pip install sklearn\n",
    "!pip install tensorflow\n",
    "!pip install sentencepiece"
   ]
  },
  {
   "cell_type": "code",
   "execution_count": null,
   "metadata": {
    "collapsed": true,
    "id": "ydJ3ow1zHfQh"
   },
   "outputs": [],
   "source": [
    "!wget \"http://2019.poleval.pl/task6/task_6-2.zip\"\n",
    "!unzip \"./task_6-2.zip\" -d \"./data\"\n",
    "!rm \"./task_6-2.zip\""
   ]
  },
  {
   "cell_type": "code",
   "execution_count": null,
   "metadata": {
    "collapsed": true,
    "id": "c0vuRSLddW4u"
   },
   "outputs": [],
   "source": [
    "!wget \"http://2019.poleval.pl/task6/task6_test.zip\"\n",
    "!unzip \"./task6_test.zip\" -d \"./data\"\n",
    "!mv \"./data/Task6/task 02/test_set_only_tags.txt\" \"./data/\"\n",
    "!mv \"./data/Task6/task 02/test_set_only_text.txt\" \"./data/\"\n",
    "!rm -r \"./task6_test.zip\"\n",
    "!rm -r \"./data/Task6\""
   ]
  },
  {
   "cell_type": "code",
   "execution_count": null,
   "metadata": {
    "collapsed": true,
    "id": "mtP2yZEaIVrm"
   },
   "outputs": [],
   "source": [
    "!wget \"https://github.com/sdadas/polish-roberta/releases/download/models-v2/roberta_base_fairseq.zip\"\n",
    "!unzip \"./roberta_base_fairseq.zip\" -d \"./roberta\"\n",
    "!rm \"./roberta_base_fairseq.zip\""
   ]
  },
  {
   "cell_type": "code",
   "execution_count": 184,
   "metadata": {
    "id": "a8fjPFhoHZxZ"
   },
   "outputs": [],
   "source": [
    "import re\n",
    "import os\n",
    "import numpy as np\n",
    "import pandas as pd\n",
    "from tqdm import tqdm\n",
    "\n",
    "from spacy.lang.pl import Polish\n",
    "from fairseq.models.roberta import RobertaModel, RobertaHubInterface\n",
    "from fairseq import hub_utils\n",
    "\n",
    "from sklearn.metrics import f1_score\n",
    "from sklearn.model_selection import train_test_split\n",
    "\n",
    "import matplotlib.pyplot as plt\n",
    "from matplotlib.patches import Patch\n",
    "\n",
    "nlp = Polish()\n",
    "\n",
    "RE_EMOJI = re.compile(\"[\\U00010000-\\U0010ffff]\", flags=re.UNICODE)"
   ]
  },
  {
   "cell_type": "code",
   "execution_count": null,
   "metadata": {
    "colab": {
     "base_uri": "https://localhost:8080/"
    },
    "collapsed": true,
    "id": "teT13GU0HZxh",
    "outputId": "5d15c574-30c4-4164-97ca-31d8193d445a"
   },
   "outputs": [],
   "source": [
    "model_path = \"roberta\"\n",
    "loaded = hub_utils.from_pretrained(\n",
    "    model_name_or_path=model_path,\n",
    "    data_name_or_path=model_path,\n",
    "    bpe=\"sentencepiece\",\n",
    "    sentencepiece_vocab=\"sentencepiece.bpe.model\",\n",
    "    load_checkpoint_heads=True,\n",
    "    archive_map=RobertaModel.hub_models(),\n",
    "    cpu=True\n",
    ")\n",
    "roberta = RobertaHubInterface(loaded['args'], loaded['task'], loaded['models'][0])\n",
    "roberta.eval()"
   ]
  },
  {
   "cell_type": "code",
   "execution_count": 192,
   "metadata": {
    "id": "yYku9jM4HZxf"
   },
   "outputs": [],
   "source": [
    "with open(\"./data/training_set_clean_only_text.txt\", \"r\") as textFile:\n",
    "    train_x = textFile.readlines()\n",
    "with open(\"./data/training_set_clean_only_tags.txt\", \"r\") as textFile:\n",
    "    train_y = list(map(int,textFile.readlines()))"
   ]
  },
  {
   "cell_type": "code",
   "execution_count": 193,
   "metadata": {
    "id": "FGdiTP3XgWNc"
   },
   "outputs": [],
   "source": [
    "with open(\"./data/test_set_only_text.txt\", \"r\") as textFile:\n",
    "    test_x = textFile.readlines()\n",
    "with open(\"./data/test_set_only_tags.txt\", \"r\") as textFile:\n",
    "    test_y = list(map(int,textFile.readlines()))"
   ]
  },
  {
   "cell_type": "code",
   "execution_count": 194,
   "metadata": {
    "id": "N04mexa0HZxg"
   },
   "outputs": [],
   "source": [
    "def preprocess_text(text):\n",
    "    text = \" \".join(text.split())\n",
    "    doc = [tok for tok in nlp(text)]\n",
    "\n",
    "    if str(doc[0]) == \"RT\": \n",
    "        doc.pop(0)\n",
    "\n",
    "    while str(doc[0]) == \"@anonymized_account\":\n",
    "        doc.pop(0)\n",
    "    while str(doc[-1]) == \"@anonymized_account\":\n",
    "        doc.pop()\n",
    "\n",
    "    #doc = [t for t in doc if t.text not in string.punctuation]\n",
    "    doc = [tok.text for tok in doc]\n",
    "    doc = [RE_EMOJI.sub(r\"\", str_text) for str_text in doc]\n",
    "    doc = [tok for tok in doc if len(tok) > 0]\n",
    "\n",
    "    return doc"
   ]
  },
  {
   "cell_type": "code",
   "execution_count": 195,
   "metadata": {
    "id": "weRxHaD9HZxh"
   },
   "outputs": [],
   "source": [
    "train_x = [preprocess_text(xi) for xi in train_x]\n",
    "train_x = [\"\".join(xi) for xi in train_x]\n",
    "train_x = [roberta.encode(xi) for xi in train_x]"
   ]
  },
  {
   "cell_type": "code",
   "execution_count": 196,
   "metadata": {
    "id": "0UyG8Imegv6C"
   },
   "outputs": [],
   "source": [
    "test_x = [preprocess_text(xi) for xi in test_x]\n",
    "test_x = [\"\".join(xi) for xi in test_x]\n",
    "test_x = [roberta.encode(xi) for xi in test_x]"
   ]
  },
  {
   "cell_type": "code",
   "execution_count": 197,
   "metadata": {
    "colab": {
     "base_uri": "https://localhost:8080/"
    },
    "id": "egWKvd7tHZxi",
    "outputId": "ac46dcf4-134a-4ee0-d668-984c91f97944",
    "scrolled": true
   },
   "outputs": [],
   "source": [
    "def extract_features(x):\n",
    "    x_mean = []\n",
    "    x_cls = []\n",
    "    for xi in tqdm(x):\n",
    "        features = roberta.extract_features(xi, return_all_hiddens=True)[-2].cpu().detach().numpy().squeeze()\n",
    "        x_mean.append(features.mean(axis=0))\n",
    "        x_cls.append(features[0])\n",
    "    return x_mean,x_cls"
   ]
  },
  {
   "cell_type": "code",
   "execution_count": 198,
   "metadata": {
    "scrolled": true
   },
   "outputs": [
    {
     "name": "stderr",
     "output_type": "stream",
     "text": [
      "100%|█████████████████████████████████████████████████████████████████████████████| 10041/10041 [15:07<00:00, 11.06it/s]\n"
     ]
    }
   ],
   "source": [
    "train_x_mean,train_x_cls = extract_features(train_x)"
   ]
  },
  {
   "cell_type": "code",
   "execution_count": 199,
   "metadata": {
    "id": "RlR1M933g_dX"
   },
   "outputs": [
    {
     "name": "stderr",
     "output_type": "stream",
     "text": [
      "100%|███████████████████████████████████████████████████████████████████████████████| 1000/1000 [02:27<00:00,  6.77it/s]\n"
     ]
    }
   ],
   "source": [
    "test_x_mean,test_x_cls = extract_features(test_x)"
   ]
  },
  {
   "cell_type": "code",
   "execution_count": 214,
   "metadata": {},
   "outputs": [],
   "source": [
    "train_x = train_x_mean\n",
    "test_x = test_x_mean"
   ]
  },
  {
   "cell_type": "code",
   "execution_count": 215,
   "metadata": {},
   "outputs": [],
   "source": [
    "def predict_stats(clf, test_x, test_y):\n",
    "    predictions = clf.predict(test_x)\n",
    "    stats(test_y, predictions)"
   ]
  },
  {
   "cell_type": "code",
   "execution_count": 216,
   "metadata": {},
   "outputs": [],
   "source": [
    "def stats(test_y, predictions):\n",
    "    micro_fscore = f1_score(test_y, predictions, average='micro')\n",
    "    macro_fscore = f1_score(test_y, predictions, average='macro')\n",
    "    print(micro_fscore)\n",
    "    print(macro_fscore)"
   ]
  },
  {
   "cell_type": "code",
   "execution_count": 217,
   "metadata": {
    "id": "NAFbL9_LHZxk"
   },
   "outputs": [
    {
     "name": "stdout",
     "output_type": "stream",
     "text": [
      "0.833\n",
      "0.456413609800652\n"
     ]
    }
   ],
   "source": [
    "from sklearn import svm\n",
    "clf = svm.LinearSVC(class_weight=\"balanced\", dual=False)\n",
    "clf.fit(train_x, train_y)\n",
    "predict_stats(clf, test_x, test_y)"
   ]
  },
  {
   "cell_type": "code",
   "execution_count": 218,
   "metadata": {},
   "outputs": [
    {
     "name": "stdout",
     "output_type": "stream",
     "text": [
      "0.721\n",
      "0.4335774885148307\n"
     ]
    }
   ],
   "source": [
    "from sklearn import svm\n",
    "clf = svm.SVC(class_weight=\"balanced\")\n",
    "clf.fit(train_x, train_y)\n",
    "predict_stats(clf, test_x, test_y)"
   ]
  },
  {
   "cell_type": "code",
   "execution_count": 219,
   "metadata": {},
   "outputs": [
    {
     "name": "stdout",
     "output_type": "stream",
     "text": [
      "0.866\n",
      "0.3093962129331904\n"
     ]
    }
   ],
   "source": [
    "from sklearn.ensemble import RandomForestClassifier\n",
    "clf = RandomForestClassifier(class_weight=\"balanced\")\n",
    "clf.fit(train_x, train_y)\n",
    "predict_stats(clf, test_x, test_y)"
   ]
  },
  {
   "cell_type": "code",
   "execution_count": 220,
   "metadata": {},
   "outputs": [
    {
     "name": "stdout",
     "output_type": "stream",
     "text": [
      "0.857\n",
      "0.4134882475170963\n"
     ]
    }
   ],
   "source": [
    "from sklearn.neural_network import MLPClassifier\n",
    "clf = MLPClassifier()\n",
    "clf.fit(train_x, train_y)\n",
    "predict_stats(clf, test_x, test_y)"
   ]
  },
  {
   "cell_type": "code",
   "execution_count": 399,
   "metadata": {},
   "outputs": [],
   "source": [
    "from tensorflow.keras import Sequential\n",
    "from tensorflow.keras.layers import Dense, Dropout\n",
    "model = Sequential()\n",
    "model.add(Dense(512, input_shape=(768,), activation=\"relu\", kernel_initializer=\"he_normal\"))\n",
    "model.add(Dropout(0.25))\n",
    "model.add(Dense(64, activation=\"relu\", kernel_initializer=\"he_normal\"))\n",
    "model.add(Dropout(0.35))\n",
    "model.add(Dense(3, activation=\"softmax\", kernel_initializer=\"he_normal\"))\n",
    "model.compile(optimizer=\"adam\", loss=\"categorical_crossentropy\", metrics=[\"accuracy\"])"
   ]
  },
  {
   "cell_type": "code",
   "execution_count": 400,
   "metadata": {},
   "outputs": [],
   "source": [
    "from tensorflow.keras.utils import to_categorical\n",
    "train_y_ohe = to_categorical(train_y)\n",
    "test_y_ohe = to_categorical(test_y)\n",
    "train_x_np = np.array(train_x)\n",
    "test_x_np = np.array(test_x)"
   ]
  },
  {
   "cell_type": "code",
   "execution_count": 401,
   "metadata": {},
   "outputs": [],
   "source": [
    "epochs = 3\n",
    "count = len(train_y)\n",
    "class_weights = np.sum(train_y_ohe, axis=0)\n",
    "class_weights = { i : (count - w) / count for i,w in enumerate(class_weights)}"
   ]
  },
  {
   "cell_type": "code",
   "execution_count": 402,
   "metadata": {},
   "outputs": [
    {
     "name": "stdout",
     "output_type": "stream",
     "text": [
      "Epoch 1/3\n",
      "314/314 - 3s - loss: 0.1515 - accuracy: 0.7259 - val_loss: 0.7066 - val_accuracy: 0.6810 - 3s/epoch - 8ms/step\n",
      "Epoch 2/3\n",
      "314/314 - 2s - loss: 0.1345 - accuracy: 0.7568 - val_loss: 0.7099 - val_accuracy: 0.6900 - 2s/epoch - 6ms/step\n",
      "Epoch 3/3\n",
      "314/314 - 2s - loss: 0.1247 - accuracy: 0.7472 - val_loss: 0.6329 - val_accuracy: 0.7620 - 2s/epoch - 6ms/step\n"
     ]
    }
   ],
   "source": [
    "feature = model.fit(\n",
    "    train_x_np,\n",
    "    train_y_ohe,\n",
    "    epochs=epochs,\n",
    "    batch_size=32,\n",
    "    class_weight=class_weights,\n",
    "    verbose=2,\n",
    "    validation_data=(test_x_np, test_y_ohe)\n",
    ")"
   ]
  },
  {
   "cell_type": "code",
   "execution_count": 403,
   "metadata": {
    "scrolled": true
   },
   "outputs": [],
   "source": [
    "results = pd.DataFrame({\n",
    "    \"training_accuracy\": feature.history[\"accuracy\"],\n",
    "    \"training_loss\": feature.history[\"loss\"],\n",
    "    \"test_accuracy\": feature.history[\"val_accuracy\"],\n",
    "    \"test_loss\": feature.history[\"val_loss\"],\n",
    "    \"epoch\": list(range(1, epochs + 1))\n",
    "})"
   ]
  },
  {
   "cell_type": "code",
   "execution_count": 404,
   "metadata": {},
   "outputs": [
    {
     "data": {
      "image/png": "[encoded data removed]",
      "text/plain": [
       "<Figure size 432x288 with 2 Axes>"
      ]
     },
     "metadata": {
      "needs_background": "light"
     },
     "output_type": "display_data"
    }
   ],
   "source": [
    "patches = [\n",
    "    Patch(color='dodgerblue',label='Train accuracy'),\n",
    "    Patch(color='mediumspringgreen',label='Test accuracy'),\n",
    "    Patch(color='orange',label='Train loss'),\n",
    "    Patch(color='firebrick',label='Test loss')\n",
    "]\n",
    "\n",
    "fig, ax1 = plt.subplots()\n",
    "\n",
    "ax1.plot(results[\"epoch\"],results[\"training_accuracy\"],'dodgerblue')\n",
    "ax1.plot(results[\"epoch\"],results[\"test_accuracy\"],'mediumspringgreen')\n",
    "ax1.set_ylabel(\"Accuracy\")\n",
    "\n",
    "ax2 = ax1.twinx()\n",
    "ax2.plot(results[\"epoch\"],results[\"training_loss\"],'orange')\n",
    "ax2.plot(results[\"epoch\"],results[\"test_loss\"],'firebrick')\n",
    "ax2.set_ylabel(\"Loss\")\n",
    "\n",
    "plt.legend(handles=patches)\n",
    "plt.show()"
   ]
  },
  {
   "cell_type": "code",
   "execution_count": 405,
   "metadata": {
    "scrolled": true
   },
   "outputs": [
    {
     "name": "stdout",
     "output_type": "stream",
     "text": [
      "0.762\n",
      "0.44433699633699636\n"
     ]
    }
   ],
   "source": [
    "predictions = np.argmax(model.predict(test_x_np), axis=1)\n",
    "y_true = np.argmax(test_y_ohe, axis=1)\n",
    "stats(y_true, predictions)"
   ]
  }
 ],
 "metadata": {
  "colab": {
   "collapsed_sections": [],
   "name": "Cyberbullying Roberta",
   "provenance": []
  },
  "kernelspec": {
   "display_name": "Python 3 (ipykernel)",
   "language": "python",
   "name": "python3"
  },
  "language_info": {
   "codemirror_mode": {
    "name": "ipython",
    "version": 3
   },
   "file_extension": ".py",
   "mimetype": "text/x-python",
   "name": "python",
   "nbconvert_exporter": "python",
   "pygments_lexer": "ipython3",
   "version": "3.8.10"
  }
 },
 "nbformat": 4,
 "nbformat_minor": 1
}
